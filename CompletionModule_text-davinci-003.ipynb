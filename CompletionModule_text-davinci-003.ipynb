{
 "cells": [
  {
   "cell_type": "markdown",
   "metadata": {},
   "source": [
    "### OPEN AI PYTHON API"
   ]
  },
  {
   "cell_type": "markdown",
   "metadata": {},
   "source": [
    "REFERED GEEKS FOR GEEKS"
   ]
  },
  {
   "cell_type": "code",
   "execution_count": 23,
   "metadata": {},
   "outputs": [],
   "source": [
    "import openai\n",
    "import os\n",
    "api_key = os.environ.get('OPENAI_API_KEY') #Get your own API key from the OpenAI website\n",
    "openai.api_key = api_key"
   ]
  },
  {
   "cell_type": "markdown",
   "metadata": {},
   "source": [
    "A function that takes in string argument as parameter\n",
    "\n",
    "Uses OpenAI's Completion module that helps execute any tasks involving text \n",
    "\n",
    "Model name used here is text-davinci-003 \n",
    "\n",
    "There are many other models available under the umbrella of GPT-3 \n"
   ]
  },
  {
   "cell_type": "markdown",
   "metadata": {},
   "source": [
    "PROMPT: This is the input string or prompt that you want the GPT-3 model to respond to.\n",
    "\n",
    "MaxToken: This parameter controls the maximum number of tokens (words or characters) in the generated output. The default value is set to 50.\n",
    "\n",
    "Outputs: This parameter specifies the number of output responses to generate in a single call. The default is set to 3.\n",
    "\n",
    "The function makes a call to the OpenAI Completion API using the openai.Completion.create method."
   ]
  },
  {
   "cell_type": "code",
   "execution_count": 2,
   "metadata": {},
   "outputs": [],
   "source": [
    "def completion (PROMPT, MaxToken = 3000, outputs=3):\n",
    "    response = openai.Completion.create ( \n",
    "        model = \"text-davinci-003\",\n",
    "        prompt = PROMPT,\n",
    "        max_tokens = MaxToken,\n",
    "        n = outputs\n",
    "    )\n",
    "    # return response [\"choices\"][0]['text'].strip()\n",
    "    output = list()\n",
    "    for i in response[\"choices\"]:\n",
    "        output.append(i['text'].strip())\n",
    "    return output"
   ]
  },
  {
   "cell_type": "markdown",
   "metadata": {},
   "source": [
    "PROMPTS FOR TEXT GENERATION"
   ]
  },
  {
   "cell_type": "code",
   "execution_count": 24,
   "metadata": {},
   "outputs": [
    {
     "data": {
      "text/plain": [
       "['Once upon a time, there was a race between a rabbit and a turtle to reach the same goal. Both animals had strong mindsets, but the turtle believed that slow and steady always wins the race. In the end, the turtle emerged victorious.']"
      ]
     },
     "execution_count": 24,
     "metadata": {},
     "output_type": "execute_result"
    }
   ],
   "source": [
    "PROMPT = \"\"\"Write a story to inspire greatness, take the antagonist as a Rabbit and protagnist as turtle. Let antagonist and protagnist compete against each other for a common goal. Story should atmost have 3 lines in total.\"\"\"\n",
    "completion(PROMPT, MaxToken=3800, outputs=1)"
   ]
  },
  {
   "cell_type": "markdown",
   "metadata": {},
   "source": [
    "THE STRUCTURE OF THE RESPONSE"
   ]
  },
  {
   "cell_type": "code",
   "execution_count": 4,
   "metadata": {},
   "outputs": [],
   "source": [
    "# <OpenAIObject text_completion id=cmpl-8VYiUp9rHtEQfr1Q5gFanHXenrngL at 0x1702a9f7470> JSON: {\n",
    "#   \"warning\": \"This model version is deprecated. Migrate before January 4, 2024 to avoid disruption of service. Learn more https://platform.openai.com/docs/deprecations\",\n",
    "#   \"id\": \"cmpl-8VYiUp9rHtEQfr1Q5gFanHXenrngL\",\n",
    "#   \"object\": \"text_completion\",\n",
    "#   \"created\": 1702532310,\n",
    "#   \"model\": \"text-davinci-003\",\n",
    "#   \"choices\": [\n",
    "#     {\n",
    "#       \"text\": \"\\n\\nOnce upon a time a fast-moving Rabbit and a slow but determined Turtle set off to attain a common goal, determined to prove who could reach it first. Both worked hard and gave their best, eventually discovering that greatness sometimes found in the most unlikely of places.\",\n",
    "#       \"index\": 0,\n",
    "#       \"logprobs\": null,\n",
    "#       \"finish_reason\": \"stop\"\n",
    "#     }\n",
    "#   ],\n",
    "#   \"usage\": {\n",
    "#     \"prompt_tokens\": 45,\n",
    "#     \"completion_tokens\": 55,\n",
    "#     \"total_tokens\": 100\n",
    "#   }\n",
    "# }"
   ]
  },
  {
   "cell_type": "markdown",
   "metadata": {},
   "source": [
    "PROMPTS FOR COMPLETION"
   ]
  },
  {
   "cell_type": "code",
   "execution_count": 5,
   "metadata": {},
   "outputs": [
    {
     "data": {
      "text/plain": [
       "['Client: \"What kind of swill did you sell me? The cork is falling apart and the liquid tastes like river water!\"\\n\\nBusinessman: \" \\'Tis not mine fault, good sir. \\'Twas purchased forsooth from a vintner of impressive status and esteem.\"\\n\\nClient: \"For sure, you must have dropped it from a few stories and then tried to pass it off as fine wine!\"\\n\\nBusinessman: \"Thou art mistaken, kind heart. A thousand pardons if you believe me grievous in my ways.\"']"
      ]
     },
     "execution_count": 5,
     "metadata": {},
     "output_type": "execute_result"
    }
   ],
   "source": [
    "PROMPT = \"\"\"Write a short conversation between client and businessman about a wine bottle purchase. \n",
    "Client is not happy with the purchase and the businessman is not accepting his mistake. \n",
    "Make the conversation sarcastic. \n",
    "Each Response should have atmost 2 lines. \n",
    "The client should talk like Kevin Hart and businessman should talk like Shakespeare. \n",
    "\"\"\"\n",
    "completion(PROMPT, MaxToken=3000, outputs=1)"
   ]
  },
  {
   "cell_type": "code",
   "execution_count": 6,
   "metadata": {},
   "outputs": [
    {
     "data": {
      "text/plain": [
       "['I can offer you something even better - I have a few reusable water bottles that you could use instead.']"
      ]
     },
     "execution_count": 6,
     "metadata": {},
     "output_type": "execute_result"
    }
   ],
   "source": [
    "PROMPT = \"\"\"Complete the below conversation between a client and a worker. \n",
    "Make the conversation have a wholesome plot twist. \n",
    "Conversation : ### \n",
    "Client: I want a water bottle. \n",
    "Worker: I don't have any water botlles. \n",
    "Client: But I want water bottles. \n",
    "Worker: \n",
    "### \n",
    "\"\"\"\n",
    "completion(PROMPT, MaxToken=3000, outputs=1)"
   ]
  },
  {
   "cell_type": "markdown",
   "metadata": {},
   "source": [
    "PROMPTS FOR TRANSLATION"
   ]
  },
  {
   "cell_type": "code",
   "execution_count": 10,
   "metadata": {},
   "outputs": [
    {
     "data": {
      "text/plain": [
       "['Tamil:\\n\"கீக்ஸ் பழம்பெருக்கும் தரவு அடுக்குகள் பாடம் அதிசயமாக உள்ளது.\\n\\nHindi:\\n\"जीक्स फॉर जीक्स डेटा स्ट्रक्चर कोर्स सबसे अच्छा है।\"']"
      ]
     },
     "execution_count": 10,
     "metadata": {},
     "output_type": "execute_result"
    }
   ],
   "source": [
    "PROMPT = \"\"\" \n",
    "Translate the below text in Tamil and Hindi. \n",
    "Text:### \n",
    "Geeks for Geeks Data Structures Course is the best. \n",
    "### \n",
    "\"\"\"\n",
    "completion(PROMPT, MaxToken=3000, outputs=1)"
   ]
  },
  {
   "cell_type": "markdown",
   "metadata": {},
   "source": [
    "PROMPTS FOR SUMMARIZATION"
   ]
  },
  {
   "cell_type": "code",
   "execution_count": 12,
   "metadata": {},
   "outputs": [
    {
     "data": {
      "text/plain": [
       "['The story of the hare and the tortoise is about two animals - a quick-moving hare and a slow-moving tortoise - competing in a race. The hare, overconfident in his abilities, falls asleep before the end of the race, resulting in the turtle crossing the finish line first and winning the race with humility and without arrogance.']"
      ]
     },
     "execution_count": 12,
     "metadata": {},
     "output_type": "execute_result"
    }
   ],
   "source": [
    "PROMPT = \"\"\" \n",
    "Summarize the below text and extract the key points. \n",
    "Text:### \n",
    "This is an extremely popular story about a hare and a tortoise. \n",
    "The hare is an animal that is known to move quickly, while a tortoise is one to move slowly. \n",
    "One day, the hare challenged the tortoise to a race simply to prove that he was the best. The tortoise agreed. \n",
    "Once the race began the hare was easily able to get a head start. Upon realizing that the tortoise is far behind. The overconfident hare decided to take a nap. \n",
    "Meanwhile the tortoise, who was extremely determined and dedicated to the race was slowly nearing the finish line. \n",
    "The tortoise won the race while the hare napped. Most importantly he did it with humility and without arrogance. \n",
    "### \n",
    "\"\"\"\n",
    "completion(PROMPT, MaxToken=3000, outputs=1)"
   ]
  },
  {
   "cell_type": "code",
   "execution_count": 16,
   "metadata": {},
   "outputs": [
    {
     "data": {
      "text/plain": [
       "['- A farmer asked his son to take their herd of sheep grazing every day\\n- To alleviate boredom, the boy started to shout “wolf! Wolf!”, and fooled the villagers into running to help\\n- After multiple false alarms, the villagers became furious\\n- On the third day, an actual wolf appeared and the boy shouted for help, but the villagers did not believe him and did not arrive to the rescue']"
      ]
     },
     "execution_count": 16,
     "metadata": {},
     "output_type": "execute_result"
    }
   ],
   "source": [
    "PROMPT = \"\"\" \n",
    "Summarize the below text in bullet points. \n",
    "Text:### \n",
    "A farmer asked his son to take their herd of sheep grazing every day. \n",
    "While the boy watched over the sheep, he got bored and decided to have some fun. \n",
    "So, he shouted, “Wolf! Wolf!”. Upon hearing this the villagers ran to help him chase the Wolf away. \n",
    "As they reached him, they realized that there was no Wolf and he was just kidding. \n",
    "The villagers were furious and they yelled at the boy for creating chaos and panic. \n",
    "On the next day and the boy shouted “Wolf!” again and once again the villagers came to help him and saw that there was no wolf. \n",
    "This made them very angry again. \n",
    "On the same day, the boy saw an actual Wolf that has terrorizing the sheep. \n",
    "The boy cried “Wolf! Wolf! please help me” and no villagers showed up as they believed that the boy was joking again. \n",
    "### \n",
    "\"\"\"\n",
    "completion(PROMPT, MaxToken=3000, outputs=1)"
   ]
  },
  {
   "cell_type": "markdown",
   "metadata": {},
   "source": [
    "PROMPTS FOR RETRIEVING FACTUAL INFORMATION"
   ]
  },
  {
   "cell_type": "code",
   "execution_count": 17,
   "metadata": {},
   "outputs": [
    {
     "data": {
      "text/plain": [
       "['India has 28 states and 8 union territories: \\n\\nStates: \\nAndhra Pradesh, Arunachal Pradesh, Assam, Bihar, Chhattisgarh, Goa, Gujarat, Haryana, Himachal Pradesh, Jammu and Kashmir, Jharkhand, Karnataka, Kerala, Madhya Pradesh, Maharashtra, Manipur, Meghalaya, Mizoram, Nagaland, Odisha, Punjab, Rajasthan, Sikkim, Tamil Nadu, Telangana, Tripura, Uttar Pradesh, Uttarakhand and West Bengal. \\n\\nUnion Territories: \\nAndaman and Nicobar Islands, Chandigarh, Dadra and Nagar Haveli and Daman and Diu, Delhi, Lakshadweep, Puducherry and Ladakh.']"
      ]
     },
     "execution_count": 17,
     "metadata": {},
     "output_type": "execute_result"
    }
   ],
   "source": [
    "PROMPT = \"\"\" \n",
    "What all states and union teritories are in India? \n",
    "\"\"\"\n",
    "completion(PROMPT, MaxToken=3000, outputs=1)"
   ]
  },
  {
   "cell_type": "markdown",
   "metadata": {},
   "source": [
    "PROMPTS FOR TEXT CONVERSION"
   ]
  },
  {
   "cell_type": "code",
   "execution_count": 19,
   "metadata": {},
   "outputs": [
    {
     "name": "stdout",
     "output_type": "stream",
     "text": [
      "1. 🧙‍♂️🌈 \n",
      "2. 🤡🤝 \n",
      "3. 👻\n"
     ]
    }
   ],
   "source": [
    "PROMPT = \"\"\" \n",
    "Convert the below movie titles in emojis \n",
    "Movies List:### \n",
    "1. Wizard of Oz \n",
    "2. The imitation game \n",
    "3. Ghosted \n",
    "### \n",
    "\"\"\"\n",
    "print(completion(PROMPT, MaxToken=3000, outputs=1)[0])"
   ]
  },
  {
   "cell_type": "markdown",
   "metadata": {},
   "source": [
    "PROMPTS FOR ENCODING AND DECODING"
   ]
  },
  {
   "cell_type": "code",
   "execution_count": 20,
   "metadata": {},
   "outputs": [
    {
     "name": "stdout",
     "output_type": "stream",
     "text": [
      "1. @$$3£$\n",
      "2. ₹@®\n",
      "3. @$$3£$\n"
     ]
    }
   ],
   "source": [
    "PROMPT = \"\"\" \n",
    "Encode the below texts in only special characters \n",
    "Text:### \n",
    "1. Geeks \n",
    "2. for \n",
    "3. Geeks \n",
    "### \n",
    "\"\"\"\n",
    "print(completion(PROMPT, MaxToken=3000, outputs=1)[0])"
   ]
  },
  {
   "cell_type": "code",
   "execution_count": 22,
   "metadata": {},
   "outputs": [
    {
     "name": "stdout",
     "output_type": "stream",
     "text": [
      "1. Geeks \n",
      "2. For \n",
      "3. Geeks\n"
     ]
    }
   ],
   "source": [
    "PROMPT = \"\"\" \n",
    "Decode the below encodings in only special characters to text \n",
    "Encodings:### \n",
    "1. &#71;&#101;&#101;&#107;&#115; \n",
    "2. &#102;&#111;&#114; \n",
    "3. &#71;&#101;&#101;&#107;&#115;\n",
    "### \n",
    "\"\"\"\n",
    "print(completion(PROMPT, MaxToken=3000, outputs=1)[0])"
   ]
  }
 ],
 "metadata": {
  "kernelspec": {
   "display_name": "Python 3",
   "language": "python",
   "name": "python3"
  },
  "language_info": {
   "codemirror_mode": {
    "name": "ipython",
    "version": 3
   },
   "file_extension": ".py",
   "mimetype": "text/x-python",
   "name": "python",
   "nbconvert_exporter": "python",
   "pygments_lexer": "ipython3",
   "version": "3.11.4"
  }
 },
 "nbformat": 4,
 "nbformat_minor": 2
}
